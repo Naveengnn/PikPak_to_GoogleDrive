{
  "nbformat": 4,
  "nbformat_minor": 0,
  "metadata": {
    "colab": {
      "provenance": [],
      "include_colab_link": true
    },
    "kernelspec": {
      "name": "python3",
      "display_name": "Python 3"
    },
    "language_info": {
      "name": "python"
    }
  },
  "cells": [
    {
      "cell_type": "markdown",
      "metadata": {
        "id": "view-in-github",
        "colab_type": "text"
      },
      "source": [
        "<a href=\"https://colab.research.google.com/github/HongYue1/PikPak_to_GoogleDrive/blob/main/PikPak_Downloader.ipynb\" target=\"_parent\"><img src=\"https://colab.research.google.com/assets/colab-badge.svg\" alt=\"Open In Colab\"/></a>"
      ]
    },
    {
      "cell_type": "markdown",
      "source": [
        "#For more information: https://github.com/52funny/pikpakcli"
      ],
      "metadata": {
        "id": "u7z96yNFC19a"
      }
    },
    {
      "cell_type": "code",
      "source": [
        "#@markdown ## <- Download pikpakcli\n",
        "!wget https://github.com/52funny/pikpakcli/releases/latest/download/pikpakcli_Linux_x86_64.tar.gz\n",
        "!tar -xzvf pikpakcli_Linux_x86_64.tar.gz\n",
        "!rm pikpakcli_Linux_x86_64.tar.gz\n",
        "\n",
        "from IPython.display import clear_output\n",
        "clear_output()\n",
        "\n",
        "import os\n",
        "\n",
        "if not os.path.exists(\"./pikpakcli\"):\n",
        "    print(\"Download Failed\")\n",
        "else:\n",
        "    print(\"Download Successful\")"
      ],
      "metadata": {
        "id": "Bb1VFqir5ztc",
        "cellView": "form"
      },
      "execution_count": null,
      "outputs": []
    },
    {
      "cell_type": "code",
      "source": [
        "#@markdown ## <- Mount Google drive\n",
        "import os\n",
        "from google.colab import drive\n",
        "\n",
        "drive.mount('/content/drive')\n",
        "\n",
        "clear_output()\n",
        "print(\"Finished\")"
      ],
      "metadata": {
        "cellView": "form",
        "id": "bHClfzQ0SqGd"
      },
      "execution_count": null,
      "outputs": []
    },
    {
      "cell_type": "code",
      "source": [
        "# prompt: take email and password as a markdown input from user in put them here: !echo -e \"proxy:\\nusername: {email} \\npassword: {password}\" > config.yml\n",
        "#@markdown Enter your email or phone number in this format with country code, ex: +861xxxxxxxxxx\n",
        "email = \"gzd51124@tccho.com\"#@param {type:\"string\"}\n",
        "password = \"20030130Gnn@nax\"#@param {type:\"string\"}\n",
        "!echo -e \"proxy:\\nusername: {email} \\npassword: {password}\" > config.yml\n"
      ],
      "metadata": {
        "cellView": "form",
        "id": "KitDBVwwWIL5"
      },
      "execution_count": null,
      "outputs": []
    },
    {
      "cell_type": "code",
      "source": [
        "#@markdown Enter the path of the folder or the file you want to download in your pikpak drive\n",
        "\n",
        "#@markdown note: if you are downloading a folder always end it with /, example `movies/batman series/`\n",
        "download=\"\Pack From Shared\" #@param {type:\"string\"}\n",
        "\n",
        "#@markdown Where to save the downloads?\n",
        "\n",
        "#@markdown /content/drive/MyDrive/ --> path to your google drive\n",
        "\n",
        "#@markdown pikpak/ --> the folder name that will be used\n",
        "\n",
        "\n",
        "path=\"/content/drive/MyDrive/pikpak/\" #@param {type:\"string\"}\n",
        "if not os.path.exists(path):\n",
        "    os.makedirs(path)\n",
        "\n",
        "\n",
        "#@markdown Enter the number of files downloaded at the same time.\n",
        "threads=\"10\" #@param {type:\"string\"}\n",
        "\n",
        "if '/' in download:\n",
        "  # Check if the last part of the path contains a '.' (indicating a file)\n",
        "  if '.' in download.rsplit('/', 1)[1]:\n",
        "    folder, file = download.rsplit('/', 1)\n",
        "    !./pikpakcli download -c {threads} -p '{folder}' '{file}' -o {path} -g\n",
        "  else:\n",
        "    # It's a folder, pass the whole path as -p\n",
        "    !./pikpakcli download -c {threads} -p '{download}' -o {path} -g\n",
        "else:\n",
        "  !./pikpakcli download '{download}' -c {threads} -o {path} -g"
      ],
      "metadata": {
        "id": "vgsoE8Rl6qYE",
        "cellView": "form"
      },
      "execution_count": null,
      "outputs": []
    },
    {
      "cell_type": "code",
      "source": [
        "#@markdown ⚠️ Delete Downloads folder specified above ⚠️\n",
        "!rm -rf  $path"
      ],
      "metadata": {
        "cellView": "form",
        "id": "AurtWpcDw8dg"
      },
      "execution_count": null,
      "outputs": []
    }
  ]
}
